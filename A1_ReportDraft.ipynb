{
  "nbformat": 4,
  "nbformat_minor": 0,
  "metadata": {
    "kernelspec": {
      "display_name": "Python 3",
      "language": "python",
      "name": "python3"
    },
    "language_info": {
      "codemirror_mode": {
        "name": "ipython",
        "version": 3
      },
      "file_extension": ".py",
      "mimetype": "text/x-python",
      "name": "python",
      "nbconvert_exporter": "python",
      "pygments_lexer": "ipython3",
      "version": "3.5.4"
    },
    "toc": {
      "base_numbering": 1,
      "nav_menu": {},
      "number_sections": true,
      "sideBar": true,
      "skip_h1_title": false,
      "title_cell": "Table of Contents",
      "title_sidebar": "Contents",
      "toc_cell": false,
      "toc_position": {},
      "toc_section_display": true,
      "toc_window_display": false
    },
    "colab": {
      "name": "A1_ReportDraft.ipynb",
      "version": "0.3.2",
      "provenance": [],
      "include_colab_link": true
    }
  },
  "cells": [
    {
      "cell_type": "markdown",
      "metadata": {
        "id": "view-in-github",
        "colab_type": "text"
      },
      "source": [
        "<a href=\"https://colab.research.google.com/github/13055189/UTS_ML2019_ID12345678/blob/master/A1_ReportDraft.ipynb\" target=\"_parent\"><img src=\"https://colab.research.google.com/assets/colab-badge.svg\" alt=\"Open In Colab\"/></a>"
      ]
    },
    {
      "cell_type": "markdown",
      "metadata": {
        "id": "Wp8UKjW4Gzmf",
        "colab_type": "text"
      },
      "source": [
        "# Draft and Experiment Area"
      ]
    },
    {
      "cell_type": "markdown",
      "metadata": {
        "id": "WaK-rN6SGzmp",
        "colab_type": "text"
      },
      "source": [
        "1. First impression\n",
        "    * What is my chosen paper to read?\n",
        "    * What type of the main contribution the paper has made?\n",
        "        - A theory or proposition (revealing something, from unknown to known)\n",
        "        - A method or algorithm (inventing a technique, from undoable to doable)\n",
        "\n",
        "    * _Before_ reading the main body of the paper, write down your first impression  obtained from its abstract and short introduction.\n",
        "    * Why does the paper attract you, such as, How it surprised you? Why do you think it addresses an important topic that will be helpful in your future study of machine learning?\n",
        "    \n",
        "2. Read the paper abstract and introduction, list here all the notions that you don't know the precise meaning. If you think you have completed your list,  compare the list with people around you who have chosen the same or a similar paper.\n",
        "\n",
        "3. (During the next 7 days) Re-consider the central problem of the paper."
      ]
    },
    {
      "cell_type": "markdown",
      "metadata": {
        "id": "Xxkf4dOAG5xk",
        "colab_type": "text"
      },
      "source": [
        "This is the [link](https://colab.research.google.com/github/junjy007/UTS_ML2019_Main/blob/master/A1_ReportDraft.ipynb#scrollTo=Xxkf4dOAG5xk) to the notebook online.\n",
        "\n",
        "https://colab.research.google.com/github/junjy007/UTS_ML2019_Main/blob/master/A1_ReportDraft.ipynb#scrollTo=Xxkf4dOAG5xk\n",
        "\n"
      ]
    },
    {
      "cell_type": "markdown",
      "metadata": {
        "id": "7bM-8sYoGzms",
        "colab_type": "text"
      },
      "source": [
        "# Assignment 1\n",
        "##A Mathematical Theory of Communication\n"
      ]
    },
    {
      "cell_type": "markdown",
      "metadata": {
        "id": "Vav_qLdtKKKo",
        "colab_type": "text"
      },
      "source": [
        "## Introduction\n",
        "Nowadays, data become more and more valuable. A small USB can store more than ten Blu-ray movies. A computer can have one Terabyte storage space. However, in 50 years, the size of the disk is much smaller than now. The size of a picture or a short video is much bigger. Therefore, a hard disk may not be able to store too much things. As the development of science and technology, the size of the hard disk become larger and larger, which makes today’s computer become more and more convenient. However, this is not the only reason why we can store that much data in a little device, without the file compression any of those hardwires will not be able to store a single movie. This report will talk about another important article, which is the basic theory about data transmission and file compression. \n",
        "In this report, I will discuss one of the most important articles in the information technology, “A Mathematical Theory of Communication” written by C. E. Shannon, which has become the theoretical basis of countless modern information technologies. \n",
        "\n"
      ]
    },
    {
      "cell_type": "markdown",
      "metadata": {
        "id": "2rZzafoKGzm0",
        "colab_type": "text"
      },
      "source": [
        "## Content"
      ]
    },
    {
      "cell_type": "markdown",
      "metadata": {
        "id": "q1IUdVdcGzm4",
        "colab_type": "text"
      },
      "source": [
        "The paper I am going to talk about is a theory about the communication. In this article, the main thing author discuss is a brand-new way to think about the data. Before this article, people treated all kinds of the data in the same way. However, the truth is the data does not have the same value. For a specific example, in English, the probability of the letter “H” will appear in a word is 5.9% and the letter “Z” is 0.07%. Obviously, the “H” will be used more often in a paper than the letter “Z”. Therefore, if will make the data which represent “H” become much smaller than “Z”, the data size of the paper will also be much smaller. Shannon also prove this point in a mathematical way and come out a general algorithm to calculate the value of data:\n",
        "##$H=-k\\sum_{i=1}^{n}p_{i}logp_{i}$\n",
        "\n",
        "It is the sum of the probability of each data turning up multiply by the number of bits in each data. (Also, it was here that the concept of bits was introduced and be widely uesd in the future)\n",
        "\n",
        "The function of this algorithm is much esoteric than the example I just give, but it can help people understand the basic logic of Shannon’s idea. Nowadays, his theory become the most important way to simplification and quantification the data.\n",
        "\n",
        "While introducing the basic logic of this theory, Shannon also discussed “entropy”, which is the “H” in the equation. In this part, Shannon gave every data an entropy, which also known as “Shannon entropy”, this means people do not need to program every data equally. Then, Shannon gave out the example to show the possible function of this “H”.\n",
        "\n",
        "After giving all the basic knowledge people need to understand his idea, Shannon used more specific way to discuss this theory by actually calculating the data programing size in his way. The result is remarkable, by programing data into 1 and 0, he reduced the data to seven eighth of its original size. \n",
        "\n",
        "This is not only the impress thing in this article. He also came up with the idea of how to reduce the harm of the noise which appear during the data transmission and gave a way to balance the transmit speed and transmit noise. This also become one of the most important theory in today’s information theory.\n"
      ]
    },
    {
      "cell_type": "markdown",
      "metadata": {
        "id": "0wAoRbqcGzm6",
        "colab_type": "text"
      },
      "source": [
        "## Innovation"
      ]
    },
    {
      "cell_type": "markdown",
      "metadata": {
        "id": "0qjttL_mGzm9",
        "colab_type": "text"
      },
      "source": [
        "The innovation of this article is remarkable, it not only gave people the great method to processing the data, it also provided the way to think about the information. By following this theory, people can almost turn everything into a series of regular data flow, and the most important thing in this article is quantifying data.\n",
        "\n",
        "The article was written in 1948, in that time the theory in this article had never been proposed. It was a tremendous advance of the information area. Without this article, there will not be any file type, such as JPG, MP4 or many other different file types. It lays the foundation for the future development and research direction of this industry.\n",
        "\n",
        "To be specific, in this article the most impressive innovation is his theory, which has already become the Shannon-Hartley theorem. The influence of Shannon-Hartley theorem is the same with Newtown’s three law.\n",
        "\n",
        "The ideas conveyed in this article is not only suitable for the specific subject, but also give people new idea in other area. For example, in another article “Analysing DNA Strings using Information Theory Concepts”, the logic which be mentioned in Shannon’s article give the idea to analyse DNA. *(Geetika, Hanmandlu and Gaur, 2016)* In this article, they used Shannon’s equation to help them get the DNA sequence. In fact, basically all the subject which require analysing or coding can somehow use or reference the idea of Shannon’s theory. \n"
      ]
    },
    {
      "cell_type": "markdown",
      "metadata": {
        "id": "XRBH6VcrGzm_",
        "colab_type": "text"
      },
      "source": [
        "## Technical quality"
      ]
    },
    {
      "cell_type": "markdown",
      "metadata": {
        "id": "16lKGtzrGznB",
        "colab_type": "text"
      },
      "source": [
        "Most of the result or the theory came out from the mathematical analysis or other existing papers and technologies. Through the mathematical analysis, author compared his method with the methods which used before and it showed a specific number and showing how much his approach simplifies the process.\n",
        "\n",
        "In another part of the article, it also showed how to find the balance between the size and accuracy of data flow by giving the equation. Through the equation, he also gave out the graph to help people easily understand the result. Then, he proposed a theoretical limit which is quite accuracy from today’s research and experiment. It is like there is no such thing as 100 percent in probability. Although all of these is just the theory and calculation, the result of the article is surprisingly accurate.\n",
        "\n",
        "On the other hand, the effect of Shannon’s theory is too remarkable, an article gave the example that Shannon’s theory gave people the great way to consider the problem, but it also limited the different way*. (Gerard Allwein, 2005)* Because the logic of the Shannon’s theory can apply to many other area, people will try the same logic when they face new problem. In some situation, it avoided people to come up with new method.\n"
      ]
    },
    {
      "cell_type": "markdown",
      "metadata": {
        "id": "VB2mdpS1GznE",
        "colab_type": "text"
      },
      "source": [
        "## Application and X-factor"
      ]
    },
    {
      "cell_type": "markdown",
      "metadata": {
        "id": "oTsc0CJ1GznI",
        "colab_type": "text"
      },
      "source": [
        "The application of this article is quite wide. Basically, every single technology which has transmission and/or storage capability were based on this theory. The mode of thinking in this article is also being used in many different place. For example, in another article I found, the Shannon’s theories were being used to figure out the DNA series*.(Geetika, Hanmandlu and Gaur, 2016)* The method of that article is exactly the same with Shannon’s theory, and they tried to simplify the process by using the third-order approximation, because the DNA is group by three deoxyribose.\n",
        "\n",
        "However, everything has its shortcoming. As for the Shannon’s theories, the weakness of that is people have to give enough sample to make it work. Shannon’s theories were based on the existing technology, but for the new technology these theories will not work prefect until it has enough data. For a specific example, if there was a new language which just be created by some minority. If they want to compression or transmission information based on Shannon’s theory, they have to give enough data about their new language.\n"
      ]
    },
    {
      "cell_type": "markdown",
      "metadata": {
        "id": "TYh3s0wkGznK",
        "colab_type": "text"
      },
      "source": [
        "## Presentation"
      ]
    },
    {
      "cell_type": "markdown",
      "metadata": {
        "id": "pfhDunKVGznM",
        "colab_type": "text"
      },
      "source": [
        "About the presentation of this article, it is pretty convictive. For example, author usually analyze the different situation by using different algorithm. Therefore, the presentation of the author was quite specific. Some of the algorithm is pretty hard to understand, so he used some simple samples to help people figured out how the things worked. \n",
        "As for the other part of the article the article tried to use the mature technology as example to analogy his theory. In this way, he made his theory more practical. Because people were familiar with the old technology, they can accept the similar things much easier.\n"
      ]
    },
    {
      "cell_type": "markdown",
      "metadata": {
        "id": "hTe7SRIFGznO",
        "colab_type": "text"
      },
      "source": [
        "## References\n",
        "\n",
        "Allwein, G. 2005, A qualitative framework for Shannon information theories, Proceedings of the 2004 workshop on New security paradigms - NSPW '04,. \n",
        "\n",
        "C. E. Shannon and W. Weaver. The Mathematical Theory of Communication. University of Illinois Press, 1948.\n",
        "\n",
        "Geetika, Hanmandlu, M. and Gaur, D. 2016, Analyzing DNA Strings using Information Theory Concepts, Proceedings of the Second International Conference on Information and Communication Technology for Competitive Strategies - ICTCS '16,.\n",
        "\n",
        "Salge, C., Glackin, C., Ristić-Durrant, D., Greaves, M. and Polani, D. 2014, Information-theoretic measures as a generic approach to human-robot interaction, Proceedings of the 2014 ACM/IEEE international conference on Human-robot interaction - HRI '14,.\n"
      ]
    }
  ]
}